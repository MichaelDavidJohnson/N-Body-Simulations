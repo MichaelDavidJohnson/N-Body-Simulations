{
 "cells": [
  {
   "cell_type": "code",
   "execution_count": 1,
   "metadata": {},
   "outputs": [],
   "source": [
    "import numpy as np\n",
    "import matplotlib.pyplot as plt"
   ]
  },
  {
   "cell_type": "markdown",
   "metadata": {},
   "source": [
    "The equation is fairly well defined for 2-Body Simulation. It is merely just an application of Newton's laws leading to the following calculation of gravitational force betwen the two bodies;\n",
    "$$ F = G\\frac{m_1 m_2}{r^2} $$\n",
    "Where F is the gravitational force, m_1 and m_2 are the masses of the objects and r is the distance between the two objects.\n",
    "\n",
    "One would imagine that the accelation will then be;\n",
    "$$ A_i = \\frac{F}{m_i} $$ \n",
    "I think"
   ]
  },
  {
   "cell_type": "code",
   "execution_count": 2,
   "metadata": {},
   "outputs": [],
   "source": [
    "class Object:\n",
    "    def __init__(self,mass,location,velocity):\n",
    "        self.mass = mass\n",
    "        self.location = location\n",
    "        self.velocity = velocity\n",
    "    def updateVelocity(self,velocity):\n",
    "        self.velocity = velocity\n",
    "    def getMass(self):\n",
    "        return self.mass\n",
    "    def getLocation(self):\n",
    "        return self.location\n",
    "    def getVelocity(self):\n",
    "        return self.velocity\n",
    "    "
   ]
  },
  {
   "cell_type": "code",
   "execution_count": 3,
   "metadata": {},
   "outputs": [],
   "source": [
    "A = Object(1,np.array([0,0]),np.array([0.01,0.01]))"
   ]
  },
  {
   "cell_type": "code",
   "execution_count": 4,
   "metadata": {},
   "outputs": [],
   "source": [
    "B = Object(2,np.array([0.5,0.5]),np.array([-0.01,0.003])) "
   ]
  },
  {
   "cell_type": "code",
   "execution_count": 5,
   "metadata": {},
   "outputs": [],
   "source": [
    "G = 6.67408e-11"
   ]
  },
  {
   "cell_type": "code",
   "execution_count": 6,
   "metadata": {},
   "outputs": [
    {
     "data": {
      "text/plain": [
       "6.67408e-11"
      ]
     },
     "execution_count": 6,
     "metadata": {},
     "output_type": "execute_result"
    }
   ],
   "source": [
    "G"
   ]
  },
  {
   "cell_type": "code",
   "execution_count": 7,
   "metadata": {},
   "outputs": [
    {
     "data": {
      "text/plain": [
       "0.7071067811865476"
      ]
     },
     "execution_count": 7,
     "metadata": {},
     "output_type": "execute_result"
    }
   ],
   "source": [
    "Force_Direction = np.linalg.norm(A.getLocation()-B.getLocation())\n",
    "Force_Direction"
   ]
  },
  {
   "cell_type": "code",
   "execution_count": 8,
   "metadata": {},
   "outputs": [],
   "source": [
    "F = Force_Direction*G*(A.getMass()*B.getMass()/np.linalg.norm(A.getLocation()-B.getLocation())**2)"
   ]
  },
  {
   "cell_type": "code",
   "execution_count": 9,
   "metadata": {},
   "outputs": [
    {
     "data": {
      "text/plain": [
       "1.8877148904726048e-10"
      ]
     },
     "execution_count": 9,
     "metadata": {},
     "output_type": "execute_result"
    }
   ],
   "source": [
    "A_Acc = F/A.getMass()\n",
    "A_Acc"
   ]
  },
  {
   "cell_type": "code",
   "execution_count": 10,
   "metadata": {},
   "outputs": [
    {
     "data": {
      "text/plain": [
       "9.438574452363024e-11"
      ]
     },
     "execution_count": 10,
     "metadata": {},
     "output_type": "execute_result"
    }
   ],
   "source": [
    "B_Acc = F/B.getMass()\n",
    "B_Acc"
   ]
  },
  {
   "cell_type": "code",
   "execution_count": 11,
   "metadata": {},
   "outputs": [
    {
     "data": {
      "text/plain": [
       "array([0.01, 0.01])"
      ]
     },
     "execution_count": 11,
     "metadata": {},
     "output_type": "execute_result"
    }
   ],
   "source": [
    "A.getVelocity() + A_Acc"
   ]
  },
  {
   "cell_type": "markdown",
   "metadata": {},
   "source": [
    "The below works but I'm not too happy with the Force_Direction method"
   ]
  },
  {
   "cell_type": "code",
   "execution_count": 12,
   "metadata": {},
   "outputs": [],
   "source": [
    "hmmm = []\n",
    "hmmm2 = []\n",
    "Avelocity = np.array([0,0.0001])\n",
    "Aposition = np.array([0,0])\n",
    "Bposition = np.array([0.5,0])\n",
    "Bvelocity = np.array([0,0.0003])\n",
    "for i in range(2000):\n",
    "    timestep = 0.0001\n",
    "    A = Object(2000000,Aposition,Avelocity)\n",
    "    B = Object(1,Bposition,Bvelocity) \n",
    "    Force_Direction = (A.getLocation()-B.getLocation())/np.linalg.norm(A.getLocation()-B.getLocation())\n",
    "    F = Force_Direction*G*(A.getMass()*B.getMass()/np.linalg.norm(A.getLocation()-B.getLocation())**2)\n",
    "    A_Acc = F/A.getMass()\n",
    "    B_Acc = F/B.getMass()\n",
    "    A_Update = A.getVelocity()+A_Acc*timestep\n",
    "    B_Update = B.getVelocity()+B_Acc*timestep\n",
    "    Avelocity = A_Update\n",
    "    Bvelocity = B_Update\n",
    "    Aposition = Aposition + Avelocity\n",
    "    Bposition = Bposition + Bvelocity\n",
    "    hmmm.append(Aposition)\n",
    "    hmmm2.append(Bposition)"
   ]
  },
  {
   "cell_type": "code",
   "execution_count": null,
   "metadata": {},
   "outputs": [],
   "source": []
  },
  {
   "cell_type": "code",
   "execution_count": 13,
   "metadata": {},
   "outputs": [
    {
     "data": {
      "text/plain": [
       "array([0.49999995, 0.49999984, 0.49999968, ..., 0.4016998 , 0.40160879,\n",
       "       0.40151774])"
      ]
     },
     "execution_count": 13,
     "metadata": {},
     "output_type": "execute_result"
    }
   ],
   "source": [
    "np.array(hmmm2)[:,0]"
   ]
  },
  {
   "cell_type": "code",
   "execution_count": 14,
   "metadata": {},
   "outputs": [
    {
     "data": {
      "text/plain": [
       "<matplotlib.collections.PathCollection at 0x7f5dbf601990>"
      ]
     },
     "execution_count": 14,
     "metadata": {},
     "output_type": "execute_result"
    },
    {
     "data": {
      "image/png": "[encoded data removed]",
      "text/plain": [
       "<Figure size 432x288 with 1 Axes>"
      ]
     },
     "metadata": {
      "needs_background": "light"
     },
     "output_type": "display_data"
    }
   ],
   "source": [
    "plt.scatter(np.array(hmmm)[:,0],np.array(hmmm)[:,1])\n",
    "plt.scatter(np.array(hmmm2)[:,0],np.array(hmmm2)[:,1])"
   ]
  },
  {
   "cell_type": "code",
   "execution_count": null,
   "metadata": {},
   "outputs": [],
   "source": []
  },
  {
   "cell_type": "code",
   "execution_count": null,
   "metadata": {},
   "outputs": [],
   "source": []
  }
 ],
 "metadata": {
  "kernelspec": {
   "display_name": "Python 3",
   "language": "python",
   "name": "python3"
  },
  "language_info": {
   "codemirror_mode": {
    "name": "ipython",
    "version": 3
   },
   "file_extension": ".py",
   "mimetype": "text/x-python",
   "name": "python",
   "nbconvert_exporter": "python",
   "pygments_lexer": "ipython3",
   "version": "3.7.6"
  }
 },
 "nbformat": 4,
 "nbformat_minor": 4
}
